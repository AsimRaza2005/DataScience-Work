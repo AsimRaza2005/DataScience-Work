{
 "cells": [
  {
   "cell_type": "markdown",
   "id": "b64f1fbf",
   "metadata": {},
   "source": [
    "# Numpy Array"
   ]
  },
  {
   "cell_type": "code",
   "execution_count": 2,
   "id": "406640c1",
   "metadata": {},
   "outputs": [
    {
     "name": "stdout",
     "output_type": "stream",
     "text": [
      "[1 2 3 4 5]\n",
      "<class 'numpy.ndarray'>\n"
     ]
    }
   ],
   "source": [
    "import numpy as np\n",
    "\n",
    "x = np.array([1,2,3,4,5])\n",
    "\n",
    "print(x)\n",
    "\n",
    "print(type(x))"
   ]
  },
  {
   "cell_type": "code",
   "execution_count": 3,
   "id": "71fa094e",
   "metadata": {},
   "outputs": [
    {
     "name": "stdout",
     "output_type": "stream",
     "text": [
      "4.39 µs ± 1.45 µs per loop (mean ± std. dev. of 7 runs, 100,000 loops each)\n"
     ]
    }
   ],
   "source": [
    "import numpy as np\n",
    "\n",
    "%timeit np.arange(1,9)**4"
   ]
  },
  {
   "cell_type": "code",
   "execution_count": 4,
   "id": "0c952ad3",
   "metadata": {},
   "outputs": [
    {
     "name": "stdout",
     "output_type": "stream",
     "text": [
      "Enter : 12\n",
      "Enter : 13\n",
      "Enter : 14\n",
      "Enter : 15\n",
      "[12 13 14 15]\n"
     ]
    }
   ],
   "source": [
    "l = []\n",
    "\n",
    "for i in range(1,5):\n",
    "    \n",
    "    int_1 = int(input(\"Enter : \"))\n",
    "    \n",
    "    l.append(int_1)\n",
    "    \n",
    "    \n",
    "print(np.array(l))    "
   ]
  },
  {
   "cell_type": "markdown",
   "id": "2e403024",
   "metadata": {},
   "source": [
    "# Dimension in Array"
   ]
  },
  {
   "cell_type": "code",
   "execution_count": 5,
   "id": "baf167fe",
   "metadata": {},
   "outputs": [
    {
     "name": "stdout",
     "output_type": "stream",
     "text": [
      "[1 2 3 4]\n",
      "1\n"
     ]
    }
   ],
   "source": [
    "a = np.array([1,2,3,4])\n",
    "print(a)\n",
    "print(a.ndim)"
   ]
  },
  {
   "cell_type": "code",
   "execution_count": 6,
   "id": "3cc35a9d",
   "metadata": {},
   "outputs": [
    {
     "name": "stdout",
     "output_type": "stream",
     "text": [
      "[[1 2 3 4]\n",
      " [5 6 7 8]]\n",
      "2\n"
     ]
    }
   ],
   "source": [
    "ar2 = np.array([[1,2,3,4], [5,6,7,8]])\n",
    "print(ar2)\n",
    "print(ar2.ndim)"
   ]
  },
  {
   "cell_type": "code",
   "execution_count": 7,
   "id": "b2424ac2",
   "metadata": {},
   "outputs": [
    {
     "name": "stdout",
     "output_type": "stream",
     "text": [
      "[[[ 1  2  3  4]\n",
      "  [ 5  6  7  8]\n",
      "  [ 9 10 11 12]]]\n",
      "3\n"
     ]
    }
   ],
   "source": [
    "ar3 = np.array([[[1,2,3,4],[5,6,7,8],[9,10,11,12]]])\n",
    "print(ar3)\n",
    "print(ar3.ndim)"
   ]
  },
  {
   "cell_type": "code",
   "execution_count": 8,
   "id": "35cc255b",
   "metadata": {},
   "outputs": [
    {
     "data": {
      "text/plain": [
       "(1, 3, 4)"
      ]
     },
     "execution_count": 8,
     "metadata": {},
     "output_type": "execute_result"
    }
   ],
   "source": [
    "ar3.shape"
   ]
  },
  {
   "cell_type": "code",
   "execution_count": 9,
   "id": "f3c9d750",
   "metadata": {},
   "outputs": [
    {
     "data": {
      "text/plain": [
       "(2, 4)"
      ]
     },
     "execution_count": 9,
     "metadata": {},
     "output_type": "execute_result"
    }
   ],
   "source": [
    "ar2.shape"
   ]
  },
  {
   "cell_type": "code",
   "execution_count": 10,
   "id": "213f73d5",
   "metadata": {},
   "outputs": [
    {
     "data": {
      "text/plain": [
       "4"
      ]
     },
     "execution_count": 10,
     "metadata": {},
     "output_type": "execute_result"
    }
   ],
   "source": [
    "ar2.itemsize"
   ]
  },
  {
   "cell_type": "code",
   "execution_count": 11,
   "id": "7b5e1221",
   "metadata": {},
   "outputs": [
    {
     "data": {
      "text/plain": [
       "4"
      ]
     },
     "execution_count": 11,
     "metadata": {},
     "output_type": "execute_result"
    }
   ],
   "source": [
    "ar3.itemsize"
   ]
  },
  {
   "cell_type": "markdown",
   "id": "2d5838f7",
   "metadata": {},
   "source": [
    "# NumPy Function\n",
    "\n",
    "Array Filled with zeros\n",
    "Array filled with ones\n",
    "create an empty array\n",
    "An array with range of elements\n",
    "Array Diagonal elemnts filled with ones\n",
    "create an array with special value that are spaced linearly"
   ]
  },
  {
   "cell_type": "code",
   "execution_count": 12,
   "id": "24c07c50",
   "metadata": {},
   "outputs": [
    {
     "name": "stdout",
     "output_type": "stream",
     "text": [
      "[0. 0. 0. 0.]\n"
     ]
    }
   ],
   "source": [
    "arr = np.zeros(4)\n",
    "print(arr)"
   ]
  },
  {
   "cell_type": "code",
   "execution_count": 13,
   "id": "c0d52d71",
   "metadata": {},
   "outputs": [
    {
     "name": "stdout",
     "output_type": "stream",
     "text": [
      "[1. 1. 1. 1.]\n"
     ]
    }
   ],
   "source": [
    "x = np.ones(4)\n",
    "print(x)"
   ]
  },
  {
   "cell_type": "code",
   "execution_count": 14,
   "id": "5bc4d23d",
   "metadata": {},
   "outputs": [
    {
     "name": "stdout",
     "output_type": "stream",
     "text": [
      "[1. 1. 1. 1.]\n"
     ]
    }
   ],
   "source": [
    "emp = np.empty(4)\n",
    "print(emp)"
   ]
  },
  {
   "cell_type": "code",
   "execution_count": 15,
   "id": "52f016ba",
   "metadata": {},
   "outputs": [
    {
     "name": "stdout",
     "output_type": "stream",
     "text": [
      "[1 2 3 4]\n"
     ]
    }
   ],
   "source": [
    "rang = np.arange(1,5)\n",
    "print(rang)"
   ]
  },
  {
   "cell_type": "code",
   "execution_count": 16,
   "id": "7967132b",
   "metadata": {},
   "outputs": [
    {
     "data": {
      "text/plain": [
       "array([[ 1,  2,  3,  4,  5],\n",
       "       [ 6,  7,  8,  9, 10]])"
      ]
     },
     "execution_count": 16,
     "metadata": {},
     "output_type": "execute_result"
    }
   ],
   "source": [
    "np.arange(1,11).reshape(2,5)"
   ]
  },
  {
   "cell_type": "code",
   "execution_count": 17,
   "id": "f4b974b5",
   "metadata": {},
   "outputs": [
    {
     "name": "stdout",
     "output_type": "stream",
     "text": [
      "[[1. 0. 0.]\n",
      " [0. 1. 0.]\n",
      " [0. 0. 1.]]\n"
     ]
    }
   ],
   "source": [
    "idt = np.identity(3)\n",
    "print(idt)"
   ]
  },
  {
   "cell_type": "code",
   "execution_count": 18,
   "id": "297b3416",
   "metadata": {},
   "outputs": [
    {
     "name": "stdout",
     "output_type": "stream",
     "text": [
      "[[1. 0. 0.]\n",
      " [0. 1. 0.]\n",
      " [0. 0. 1.]]\n"
     ]
    }
   ],
   "source": [
    "diag = np.eye(3)\n",
    "print(diag)"
   ]
  },
  {
   "cell_type": "code",
   "execution_count": 19,
   "id": "d35a1c19",
   "metadata": {},
   "outputs": [
    {
     "name": "stdout",
     "output_type": "stream",
     "text": [
      "[ 1.    3.25  5.5   7.75 10.  ]\n"
     ]
    }
   ],
   "source": [
    "lp = np.linspace(1,10, num = 5)\n",
    "print(lp)"
   ]
  },
  {
   "cell_type": "markdown",
   "id": "9eee70a8",
   "metadata": {},
   "source": [
    "# Random \n",
    "\n",
    "# Rand() value between 0 and 1\n",
    "\n",
    "# Randn() value close to zero may be + or -\n",
    "\n",
    "# Ranf () half interval value of 0 and 1\n",
    "\n"
   ]
  },
  {
   "cell_type": "code",
   "execution_count": 20,
   "id": "d1631de1",
   "metadata": {},
   "outputs": [
    {
     "name": "stdout",
     "output_type": "stream",
     "text": [
      "[0.72539106 0.92389195 0.72005248 0.16224189]\n"
     ]
    }
   ],
   "source": [
    "var = np.random.rand(4)\n",
    "\n",
    "print(var)"
   ]
  },
  {
   "cell_type": "code",
   "execution_count": 21,
   "id": "9e11ce71",
   "metadata": {},
   "outputs": [
    {
     "name": "stdout",
     "output_type": "stream",
     "text": [
      "[[0.28706516 0.97612404 0.95658182 0.47906978 0.39690022]\n",
      " [0.03469516 0.27718449 0.57158063 0.92060609 0.86760126]]\n"
     ]
    }
   ],
   "source": [
    "var1 = np.random.rand(2,5)\n",
    "\n",
    "print(var1)"
   ]
  },
  {
   "cell_type": "code",
   "execution_count": 22,
   "id": "d560eb20",
   "metadata": {},
   "outputs": [
    {
     "name": "stdout",
     "output_type": "stream",
     "text": [
      "[ 0.92938329 -0.75783385 -0.71045382 -1.29871129]\n"
     ]
    }
   ],
   "source": [
    "x = np.random.randn(4)\n",
    "\n",
    "print(x)"
   ]
  },
  {
   "cell_type": "code",
   "execution_count": 23,
   "id": "ea892c3c",
   "metadata": {},
   "outputs": [
    {
     "name": "stdout",
     "output_type": "stream",
     "text": [
      "[[-1.42171846 -1.20495077 -2.64131572 -1.10153798 -0.43545112]]\n"
     ]
    }
   ],
   "source": [
    "y = np.random.randn(1,5)\n",
    "\n",
    "print(y)"
   ]
  },
  {
   "cell_type": "code",
   "execution_count": 24,
   "id": "c524dbf6",
   "metadata": {},
   "outputs": [
    {
     "name": "stdout",
     "output_type": "stream",
     "text": [
      "[0.21487571 0.10013267 0.47550935 0.87507662]\n"
     ]
    }
   ],
   "source": [
    "rand = np.random.ranf(4)\n",
    "\n",
    "print(rand)"
   ]
  },
  {
   "cell_type": "code",
   "execution_count": 25,
   "id": "befbc8b5",
   "metadata": {},
   "outputs": [
    {
     "name": "stdout",
     "output_type": "stream",
     "text": [
      "[ 8 18 17 13 15]\n"
     ]
    }
   ],
   "source": [
    "z = np.random.randint(5,20,5)\n",
    "\n",
    "print(z)"
   ]
  },
  {
   "cell_type": "markdown",
   "id": "99ef3ac8",
   "metadata": {},
   "source": [
    "# Data Types of NumpyArray"
   ]
  },
  {
   "cell_type": "code",
   "execution_count": 31,
   "id": "67644014",
   "metadata": {},
   "outputs": [
    {
     "name": "stdout",
     "output_type": "stream",
     "text": [
      "[1. 2. 3. 4. 5.]\n",
      "float32\n"
     ]
    }
   ],
   "source": [
    "a = np.array([1,2,3,4,5], \"f\")\n",
    "print(a)\n",
    "print(a.dtype)"
   ]
  },
  {
   "cell_type": "markdown",
   "id": "c1deacc8",
   "metadata": {},
   "source": [
    "# astype used to change type of data type"
   ]
  },
  {
   "cell_type": "code",
   "execution_count": 33,
   "id": "dbbae016",
   "metadata": {},
   "outputs": [
    {
     "data": {
      "text/plain": [
       "array([1, 2, 3, 4, 5], dtype=int64)"
      ]
     },
     "execution_count": 33,
     "metadata": {},
     "output_type": "execute_result"
    }
   ],
   "source": [
    "a.astype(np.int64)"
   ]
  },
  {
   "cell_type": "code",
   "execution_count": 34,
   "id": "563189d4",
   "metadata": {},
   "outputs": [
    {
     "data": {
      "text/plain": [
       "array([1., 2., 3., 4., 5.])"
      ]
     },
     "execution_count": 34,
     "metadata": {},
     "output_type": "execute_result"
    }
   ],
   "source": [
    "a.astype(np.float64)"
   ]
  },
  {
   "cell_type": "markdown",
   "id": "5e93f0b7",
   "metadata": {},
   "source": [
    "# Array Operation"
   ]
  },
  {
   "cell_type": "code",
   "execution_count": 37,
   "id": "9f21bc7b",
   "metadata": {},
   "outputs": [
    {
     "data": {
      "text/plain": [
       "array([[12, 13, 14, 15],\n",
       "       [16, 17, 18, 19],\n",
       "       [20, 21, 22, 23]])"
      ]
     },
     "execution_count": 37,
     "metadata": {},
     "output_type": "execute_result"
    }
   ],
   "source": [
    "a1 = np.arange(12).reshape(3,4)\n",
    "\n",
    "a2 = np.arange(12,24).reshape(3,4)\n"
   ]
  },
  {
   "cell_type": "code",
   "execution_count": 45,
   "id": "c2bf4870",
   "metadata": {},
   "outputs": [
    {
     "data": {
      "text/plain": [
       "array([[ True,  True,  True,  True],\n",
       "       [ True,  True,  True,  True],\n",
       "       [ True,  True,  True,  True]])"
      ]
     },
     "execution_count": 45,
     "metadata": {},
     "output_type": "execute_result"
    }
   ],
   "source": [
    "# Scalar Operation\n",
    "#Arithematic\n",
    "a1 * 2\n",
    "\n",
    "a1&2\n",
    "\n",
    "a1 + 2\n",
    "\n",
    "a1 - 2\n",
    "\n",
    "#Relational\n",
    "\n",
    "a2 > 5\n",
    "\n",
    "a2 < 20\n",
    "\n",
    "a2 > 15\n",
    "\n",
    "a2 >= 5\n"
   ]
  },
  {
   "cell_type": "code",
   "execution_count": 53,
   "id": "1933a56f",
   "metadata": {},
   "outputs": [
    {
     "data": {
      "text/plain": [
       "array([[ True,  True,  True,  True],\n",
       "       [ True,  True,  True,  True],\n",
       "       [ True,  True,  True,  True]])"
      ]
     },
     "execution_count": 53,
     "metadata": {},
     "output_type": "execute_result"
    }
   ],
   "source": [
    "# Vector Operation\n",
    "\n",
    "#Arithimatic\n",
    "\n",
    "a1 + a2\n",
    "\n",
    "a1 * a2\n",
    "\n",
    "a1 / a2\n",
    "\n",
    "a1 - a2\n",
    "\n",
    "#Relational\n",
    "\n",
    "a1 > a2\n",
    "\n",
    "a2 >= a1\n",
    "\n",
    "a1 == a2"
   ]
  },
  {
   "cell_type": "markdown",
   "id": "1c1655b6",
   "metadata": {},
   "source": [
    "# Array Function"
   ]
  },
  {
   "cell_type": "code",
   "execution_count": 62,
   "id": "6f5d55e4",
   "metadata": {},
   "outputs": [
    {
     "data": {
      "text/plain": [
       "array([[57., 87., 94.],\n",
       "       [54., 42., 65.],\n",
       "       [41., 38., 76.]])"
      ]
     },
     "execution_count": 62,
     "metadata": {},
     "output_type": "execute_result"
    }
   ],
   "source": [
    "x1 = np.random.random((3,3))\n",
    "x1 = np.round(x1*100)\n",
    "\n",
    "x1"
   ]
  },
  {
   "cell_type": "code",
   "execution_count": 64,
   "id": "32d0d9eb",
   "metadata": {},
   "outputs": [
    {
     "data": {
      "text/plain": [
       "array([41., 38., 65.])"
      ]
     },
     "execution_count": 64,
     "metadata": {},
     "output_type": "execute_result"
    }
   ],
   "source": [
    "#Max,Min,Sum,Product\n",
    "np.max(x1)\n",
    "np.min(x1)\n",
    "np.sum(x1)\n",
    "np.prod(x1)\n",
    "\n",
    "np.max(x1, axis = 1) #axis function used to acces each max , sum , prod# or min element from existing row and column\n",
    "\n",
    "np.min(x1, axis = 0)"
   ]
  },
  {
   "cell_type": "code",
   "execution_count": 68,
   "id": "f5a1fde0",
   "metadata": {},
   "outputs": [
    {
     "data": {
      "text/plain": [
       "61.55555555555556"
      ]
     },
     "execution_count": 68,
     "metadata": {},
     "output_type": "execute_result"
    }
   ],
   "source": [
    "#Mean,Median,std,var\n",
    "\n",
    "#np.mean(x1)\n",
    "#np.median(x1)\n",
    "#np.std(x1)\n",
    "#np.var(x1)"
   ]
  },
  {
   "cell_type": "code",
   "execution_count": null,
   "id": "503013cc",
   "metadata": {},
   "outputs": [],
   "source": [
    "#Trignomatric Function\n",
    "#np.sin(x1)"
   ]
  },
  {
   "cell_type": "code",
   "execution_count": 72,
   "id": "b3f29aaf",
   "metadata": {},
   "outputs": [
    {
     "data": {
      "text/plain": [
       "array([[114, 120, 126],\n",
       "       [378, 400, 422],\n",
       "       [642, 680, 718]])"
      ]
     },
     "execution_count": 72,
     "metadata": {},
     "output_type": "execute_result"
    }
   ],
   "source": [
    "#Dot Product\n",
    "x2 = np.arange(12).reshape(3,4)\n",
    "x3 = np.arange(12,24).reshape(4,3)\n",
    "\n",
    "np.dot(x2,x3)"
   ]
  },
  {
   "cell_type": "code",
   "execution_count": 74,
   "id": "32d90f50",
   "metadata": {},
   "outputs": [
    {
     "data": {
      "text/plain": [
       "array([[5.68572000e+24, 6.07603023e+37, 6.66317622e+40],\n",
       "       [2.83075330e+23, 1.73927494e+18, 1.69488924e+28],\n",
       "       [6.39843494e+17, 3.18559318e+16, 1.01480039e+33]])"
      ]
     },
     "execution_count": 74,
     "metadata": {},
     "output_type": "execute_result"
    }
   ],
   "source": [
    "#Log,Exponent\n",
    "#np.log(x1)\n",
    "#np.exp(x1)"
   ]
  },
  {
   "cell_type": "code",
   "execution_count": 79,
   "id": "5a63448d",
   "metadata": {},
   "outputs": [
    {
     "data": {
      "text/plain": [
       "array([[19., 20., 11., 16.],\n",
       "       [11.,  2.,  2., 10.]])"
      ]
     },
     "execution_count": 79,
     "metadata": {},
     "output_type": "execute_result"
    }
   ],
   "source": [
    "#Round\n",
    "#floor return back value\n",
    "#ceil return Front value\n",
    "np.round(np.random.random((2,3))*100)\n",
    "\n",
    "np.floor(np.random.random((1,4))*50)\n",
    "\n",
    "np.ceil(np.random.random((2,4))*20)"
   ]
  },
  {
   "cell_type": "markdown",
   "id": "b4b98720",
   "metadata": {},
   "source": [
    "# indexing"
   ]
  },
  {
   "cell_type": "code",
   "execution_count": 109,
   "id": "7a699e27",
   "metadata": {},
   "outputs": [
    {
     "name": "stdout",
     "output_type": "stream",
     "text": [
      "[ 0  1  2  3  4  5  6  7  8  9 10 11]\n",
      "[[12 13 14 15]\n",
      " [16 17 18 19]\n",
      " [20 21 22 23]]\n",
      "[[[0 1]\n",
      "  [2 3]]\n",
      "\n",
      " [[4 5]\n",
      "  [6 7]]]\n"
     ]
    }
   ],
   "source": [
    "z = np.arange(12)\n",
    "print(z)\n",
    "\n",
    "z1 = np.arange(12,24).reshape(3,4)\n",
    "print(z1)\n",
    "\n",
    "z2 = np.arange(8).reshape(2,2,2)\n",
    "print(z2)"
   ]
  },
  {
   "cell_type": "code",
   "execution_count": 118,
   "id": "45c58710",
   "metadata": {},
   "outputs": [
    {
     "data": {
      "text/plain": [
       "4"
      ]
     },
     "execution_count": 118,
     "metadata": {},
     "output_type": "execute_result"
    }
   ],
   "source": [
    "#z[8]#1D\n",
    "\n",
    "#z1[1,1]#2D\n",
    "\n",
    "#z2[1,0,0]3D tenser\n"
   ]
  },
  {
   "cell_type": "code",
   "execution_count": 120,
   "id": "c9f03e72",
   "metadata": {},
   "outputs": [
    {
     "data": {
      "text/plain": [
       "6"
      ]
     },
     "execution_count": 120,
     "metadata": {},
     "output_type": "execute_result"
    }
   ],
   "source": [
    "z2[1,1,0]"
   ]
  },
  {
   "cell_type": "markdown",
   "id": "0fe83c6a",
   "metadata": {},
   "source": [
    "# Slicing"
   ]
  },
  {
   "cell_type": "code",
   "execution_count": 122,
   "id": "a702c700",
   "metadata": {},
   "outputs": [
    {
     "data": {
      "text/plain": [
       "array([2, 3, 4])"
      ]
     },
     "execution_count": 122,
     "metadata": {},
     "output_type": "execute_result"
    }
   ],
   "source": [
    "z[2:5]#1D"
   ]
  },
  {
   "cell_type": "code",
   "execution_count": 123,
   "id": "0beb48ff",
   "metadata": {},
   "outputs": [
    {
     "data": {
      "text/plain": [
       "array([2, 4])"
      ]
     },
     "execution_count": 123,
     "metadata": {},
     "output_type": "execute_result"
    }
   ],
   "source": [
    "z[2:5:2]#1D"
   ]
  },
  {
   "cell_type": "code",
   "execution_count": 126,
   "id": "02a9e38f",
   "metadata": {},
   "outputs": [
    {
     "data": {
      "text/plain": [
       "array([12, 13, 14, 15])"
      ]
     },
     "execution_count": 126,
     "metadata": {},
     "output_type": "execute_result"
    }
   ],
   "source": [
    "#2D\n",
    "z1[0,:]"
   ]
  },
  {
   "cell_type": "code",
   "execution_count": 129,
   "id": "17d31477",
   "metadata": {},
   "outputs": [
    {
     "data": {
      "text/plain": [
       "array([14, 18, 22])"
      ]
     },
     "execution_count": 129,
     "metadata": {},
     "output_type": "execute_result"
    }
   ],
   "source": [
    "z1[:,2]"
   ]
  },
  {
   "cell_type": "code",
   "execution_count": 130,
   "id": "634fa4aa",
   "metadata": {},
   "outputs": [
    {
     "data": {
      "text/plain": [
       "array([[17, 18],\n",
       "       [21, 22]])"
      ]
     },
     "execution_count": 130,
     "metadata": {},
     "output_type": "execute_result"
    }
   ],
   "source": [
    "z1[1:, 1:3]"
   ]
  },
  {
   "cell_type": "code",
   "execution_count": 131,
   "id": "ed105d45",
   "metadata": {},
   "outputs": [
    {
     "data": {
      "text/plain": [
       "array([[12, 15],\n",
       "       [20, 23]])"
      ]
     },
     "execution_count": 131,
     "metadata": {},
     "output_type": "execute_result"
    }
   ],
   "source": [
    "z1[::2,::3]"
   ]
  },
  {
   "cell_type": "code",
   "execution_count": 139,
   "id": "9159ee93",
   "metadata": {},
   "outputs": [
    {
     "data": {
      "text/plain": [
       "array([[13, 15],\n",
       "       [21, 23]])"
      ]
     },
     "execution_count": 139,
     "metadata": {},
     "output_type": "execute_result"
    }
   ],
   "source": [
    "z1[::2, 1::2]"
   ]
  },
  {
   "cell_type": "code",
   "execution_count": 143,
   "id": "87a4ddc4",
   "metadata": {},
   "outputs": [
    {
     "data": {
      "text/plain": [
       "array([16, 19])"
      ]
     },
     "execution_count": 143,
     "metadata": {},
     "output_type": "execute_result"
    }
   ],
   "source": [
    "z1[1,::3]"
   ]
  },
  {
   "cell_type": "code",
   "execution_count": 146,
   "id": "ddd825d2",
   "metadata": {},
   "outputs": [
    {
     "data": {
      "text/plain": [
       "array([[13, 14, 15],\n",
       "       [17, 18, 19]])"
      ]
     },
     "execution_count": 146,
     "metadata": {},
     "output_type": "execute_result"
    }
   ],
   "source": [
    "z1[0:2,1:4]"
   ]
  },
  {
   "cell_type": "code",
   "execution_count": 147,
   "id": "8dcca7b1",
   "metadata": {},
   "outputs": [
    {
     "data": {
      "text/plain": [
       "array([[ 0,  1,  2,  3],\n",
       "       [ 4,  5,  6,  7],\n",
       "       [ 8,  9, 10, 11]])"
      ]
     },
     "execution_count": 147,
     "metadata": {},
     "output_type": "execute_result"
    }
   ],
   "source": [
    "y1 = np.arange(1).reshape(3,4)\n",
    "y1\n"
   ]
  },
  {
   "cell_type": "code",
   "execution_count": 149,
   "id": "15a6398f",
   "metadata": {},
   "outputs": [
    {
     "data": {
      "text/plain": [
       "array([[[ 0,  1,  2],\n",
       "        [ 3,  4,  5],\n",
       "        [ 6,  7,  8]],\n",
       "\n",
       "       [[ 9, 10, 11],\n",
       "        [12, 13, 14],\n",
       "        [15, 16, 17]],\n",
       "\n",
       "       [[18, 19, 20],\n",
       "        [21, 22, 23],\n",
       "        [24, 25, 26]]])"
      ]
     },
     "execution_count": 149,
     "metadata": {},
     "output_type": "execute_result"
    }
   ],
   "source": [
    "z2 = np.arange(27).reshape(3,3,3)\n",
    "z2"
   ]
  },
  {
   "cell_type": "code",
   "execution_count": 150,
   "id": "31205896",
   "metadata": {},
   "outputs": [
    {
     "data": {
      "text/plain": [
       "array([[ 9, 10, 11],\n",
       "       [12, 13, 14],\n",
       "       [15, 16, 17]])"
      ]
     },
     "execution_count": 150,
     "metadata": {},
     "output_type": "execute_result"
    }
   ],
   "source": [
    "z2[1]"
   ]
  },
  {
   "cell_type": "code",
   "execution_count": 151,
   "id": "025dd011",
   "metadata": {},
   "outputs": [
    {
     "data": {
      "text/plain": [
       "array([[[ 0,  1,  2],\n",
       "        [ 3,  4,  5],\n",
       "        [ 6,  7,  8]],\n",
       "\n",
       "       [[18, 19, 20],\n",
       "        [21, 22, 23],\n",
       "        [24, 25, 26]]])"
      ]
     },
     "execution_count": 151,
     "metadata": {},
     "output_type": "execute_result"
    }
   ],
   "source": [
    "z2[::2]"
   ]
  },
  {
   "cell_type": "code",
   "execution_count": 153,
   "id": "57b1011f",
   "metadata": {},
   "outputs": [
    {
     "data": {
      "text/plain": [
       "array([3, 4, 5])"
      ]
     },
     "execution_count": 153,
     "metadata": {},
     "output_type": "execute_result"
    }
   ],
   "source": [
    "z2[0,1,:]"
   ]
  },
  {
   "cell_type": "code",
   "execution_count": 156,
   "id": "dafeb623",
   "metadata": {},
   "outputs": [
    {
     "data": {
      "text/plain": [
       "array([10, 13, 16])"
      ]
     },
     "execution_count": 156,
     "metadata": {},
     "output_type": "execute_result"
    }
   ],
   "source": [
    "z2[1,:,1]"
   ]
  },
  {
   "cell_type": "code",
   "execution_count": 161,
   "id": "547646a6",
   "metadata": {},
   "outputs": [
    {
     "data": {
      "text/plain": [
       "array([[22, 23],\n",
       "       [25, 26]])"
      ]
     },
     "execution_count": 161,
     "metadata": {},
     "output_type": "execute_result"
    }
   ],
   "source": [
    "z2[2,1:3,1:]"
   ]
  },
  {
   "cell_type": "code",
   "execution_count": 162,
   "id": "11c7192b",
   "metadata": {},
   "outputs": [
    {
     "data": {
      "text/plain": [
       "array([[ 0,  2],\n",
       "       [18, 20]])"
      ]
     },
     "execution_count": 162,
     "metadata": {},
     "output_type": "execute_result"
    }
   ],
   "source": [
    "z2[::2,0,::2]"
   ]
  },
  {
   "cell_type": "markdown",
   "id": "f8ac57bb",
   "metadata": {},
   "source": [
    "# iterating in numpyArray"
   ]
  },
  {
   "cell_type": "code",
   "execution_count": 163,
   "id": "3967f00b",
   "metadata": {},
   "outputs": [
    {
     "name": "stdout",
     "output_type": "stream",
     "text": [
      "0\n",
      "1\n",
      "2\n",
      "3\n",
      "4\n",
      "5\n",
      "6\n",
      "7\n",
      "8\n",
      "9\n",
      "10\n",
      "11\n"
     ]
    }
   ],
   "source": [
    "for i in z:\n",
    "    print(i)"
   ]
  },
  {
   "cell_type": "code",
   "execution_count": 164,
   "id": "9b327142",
   "metadata": {},
   "outputs": [
    {
     "name": "stdout",
     "output_type": "stream",
     "text": [
      "[[12 13 14 15]\n",
      " [16 17 18 19]\n",
      " [20 21 22 23]]\n",
      "[[12 13 14 15]\n",
      " [16 17 18 19]\n",
      " [20 21 22 23]]\n",
      "[[12 13 14 15]\n",
      " [16 17 18 19]\n",
      " [20 21 22 23]]\n"
     ]
    }
   ],
   "source": [
    "for i in z1:\n",
    "    print(z1)"
   ]
  },
  {
   "cell_type": "code",
   "execution_count": 165,
   "id": "73fb326d",
   "metadata": {},
   "outputs": [
    {
     "name": "stdout",
     "output_type": "stream",
     "text": [
      "[[[ 0  1  2]\n",
      "  [ 3  4  5]\n",
      "  [ 6  7  8]]\n",
      "\n",
      " [[ 9 10 11]\n",
      "  [12 13 14]\n",
      "  [15 16 17]]\n",
      "\n",
      " [[18 19 20]\n",
      "  [21 22 23]\n",
      "  [24 25 26]]]\n",
      "[[[ 0  1  2]\n",
      "  [ 3  4  5]\n",
      "  [ 6  7  8]]\n",
      "\n",
      " [[ 9 10 11]\n",
      "  [12 13 14]\n",
      "  [15 16 17]]\n",
      "\n",
      " [[18 19 20]\n",
      "  [21 22 23]\n",
      "  [24 25 26]]]\n",
      "[[[ 0  1  2]\n",
      "  [ 3  4  5]\n",
      "  [ 6  7  8]]\n",
      "\n",
      " [[ 9 10 11]\n",
      "  [12 13 14]\n",
      "  [15 16 17]]\n",
      "\n",
      " [[18 19 20]\n",
      "  [21 22 23]\n",
      "  [24 25 26]]]\n"
     ]
    }
   ],
   "source": [
    "for i in z2:\n",
    "    print(z2)"
   ]
  },
  {
   "cell_type": "code",
   "execution_count": 166,
   "id": "a405f759",
   "metadata": {},
   "outputs": [
    {
     "name": "stdout",
     "output_type": "stream",
     "text": [
      "0\n",
      "1\n",
      "2\n",
      "3\n",
      "4\n",
      "5\n",
      "6\n",
      "7\n",
      "8\n",
      "9\n",
      "10\n",
      "11\n",
      "12\n",
      "13\n",
      "14\n",
      "15\n",
      "16\n",
      "17\n",
      "18\n",
      "19\n",
      "20\n",
      "21\n",
      "22\n",
      "23\n",
      "24\n",
      "25\n",
      "26\n"
     ]
    }
   ],
   "source": [
    "for i in np.nditer(z2):\n",
    "    print(i)"
   ]
  },
  {
   "cell_type": "markdown",
   "id": "5712b53d",
   "metadata": {},
   "source": [
    "# Reshaping"
   ]
  },
  {
   "cell_type": "code",
   "execution_count": 168,
   "id": "35195fef",
   "metadata": {},
   "outputs": [
    {
     "data": {
      "text/plain": [
       "array([[12, 16, 20],\n",
       "       [13, 17, 21],\n",
       "       [14, 18, 22],\n",
       "       [15, 19, 23]])"
      ]
     },
     "execution_count": 168,
     "metadata": {},
     "output_type": "execute_result"
    }
   ],
   "source": [
    "#Transpose\n",
    "np.transpose(z1)"
   ]
  },
  {
   "cell_type": "code",
   "execution_count": 171,
   "id": "852b7bd3",
   "metadata": {},
   "outputs": [
    {
     "data": {
      "text/plain": [
       "array([[12, 16, 20],\n",
       "       [13, 17, 21],\n",
       "       [14, 18, 22],\n",
       "       [15, 19, 23]])"
      ]
     },
     "execution_count": 171,
     "metadata": {},
     "output_type": "execute_result"
    }
   ],
   "source": [
    "z1.T"
   ]
  },
  {
   "cell_type": "code",
   "execution_count": 173,
   "id": "c1411b0f",
   "metadata": {},
   "outputs": [
    {
     "data": {
      "text/plain": [
       "array([12, 13, 14, 15, 16, 17, 18, 19, 20, 21, 22, 23])"
      ]
     },
     "execution_count": 173,
     "metadata": {},
     "output_type": "execute_result"
    }
   ],
   "source": [
    "z1.ravel()"
   ]
  },
  {
   "cell_type": "markdown",
   "id": "cb62bbcb",
   "metadata": {},
   "source": [
    "# Stacking"
   ]
  },
  {
   "cell_type": "code",
   "execution_count": 174,
   "id": "4f016870",
   "metadata": {},
   "outputs": [
    {
     "data": {
      "text/plain": [
       "array([[ 0,  1,  2,  3, 12, 13, 14, 15],\n",
       "       [ 4,  5,  6,  7, 16, 17, 18, 19],\n",
       "       [ 8,  9, 10, 11, 20, 21, 22, 23]])"
      ]
     },
     "execution_count": 174,
     "metadata": {},
     "output_type": "execute_result"
    }
   ],
   "source": [
    "#Horizontal stack\n",
    "z3 = np.arange(12).reshape(3,4)\n",
    "z4 = np.arange(12,24).reshape(3,4)\n",
    "\n",
    "np.hstack((z3,z4))"
   ]
  },
  {
   "cell_type": "code",
   "execution_count": 175,
   "id": "97062d0f",
   "metadata": {},
   "outputs": [
    {
     "data": {
      "text/plain": [
       "array([[ 0,  1,  2,  3],\n",
       "       [ 4,  5,  6,  7],\n",
       "       [ 8,  9, 10, 11],\n",
       "       [12, 13, 14, 15],\n",
       "       [16, 17, 18, 19],\n",
       "       [20, 21, 22, 23]])"
      ]
     },
     "execution_count": 175,
     "metadata": {},
     "output_type": "execute_result"
    }
   ],
   "source": [
    "#vertical stack\n",
    "np.vstack((z3,z4))"
   ]
  },
  {
   "cell_type": "code",
   "execution_count": null,
   "id": "4a5b4301",
   "metadata": {},
   "outputs": [],
   "source": []
  }
 ],
 "metadata": {
  "kernelspec": {
   "display_name": "Python 3 (ipykernel)",
   "language": "python",
   "name": "python3"
  },
  "language_info": {
   "codemirror_mode": {
    "name": "ipython",
    "version": 3
   },
   "file_extension": ".py",
   "mimetype": "text/x-python",
   "name": "python",
   "nbconvert_exporter": "python",
   "pygments_lexer": "ipython3",
   "version": "3.10.9"
  }
 },
 "nbformat": 4,
 "nbformat_minor": 5
}
