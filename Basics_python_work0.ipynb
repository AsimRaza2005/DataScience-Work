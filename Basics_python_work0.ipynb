{
  "nbformat": 4,
  "nbformat_minor": 0,
  "metadata": {
    "colab": {
      "provenance": []
    },
    "kernelspec": {
      "name": "python3",
      "display_name": "Python 3"
    },
    "language_info": {
      "name": "python"
    }
  },
  "cells": [
    {
      "cell_type": "markdown",
      "source": [
        "# **All Basics programs Of Python**"
      ],
      "metadata": {
        "id": "IOcNnJKI0N7_"
      }
    },
    {
      "cell_type": "code",
      "source": [
        "print(\"Hello World\")"
      ],
      "metadata": {
        "colab": {
          "base_uri": "https://localhost:8080/"
        },
        "id": "_GhWjdHBMThR",
        "outputId": "49097dfc-b863-4766-dd5b-411bb1c412f9"
      },
      "execution_count": null,
      "outputs": [
        {
          "output_type": "stream",
          "name": "stdout",
          "text": [
            "Hello World\n"
          ]
        }
      ]
    },
    {
      "cell_type": "code",
      "source": [
        "name = \"Asim\"\n",
        "age = 19\n",
        "add = \"Hyderabad\"\n",
        "print(name,age,add)"
      ],
      "metadata": {
        "colab": {
          "base_uri": "https://localhost:8080/"
        },
        "id": "TwxG_5S9Y5KJ",
        "outputId": "a3529505-6388-4656-80aa-3eb4c91c80dd"
      },
      "execution_count": null,
      "outputs": [
        {
          "output_type": "stream",
          "name": "stdout",
          "text": [
            "Asim 19 Hyderabad\n"
          ]
        }
      ]
    },
    {
      "cell_type": "code",
      "source": [
        "num1 = 30\n",
        "num2 = 10\n",
        "print(num1 + num2)\n",
        "print(num1 - num2)\n",
        "print(num1 * num2)\n",
        "print(num1 / num2)"
      ],
      "metadata": {
        "colab": {
          "base_uri": "https://localhost:8080/"
        },
        "id": "32_4rKBqfrMX",
        "outputId": "5edbb139-ba80-4f9c-9f16-0dc7d86cde50"
      },
      "execution_count": null,
      "outputs": [
        {
          "output_type": "stream",
          "name": "stdout",
          "text": [
            "40\n",
            "20\n",
            "300\n",
            "3.0\n"
          ]
        }
      ]
    },
    {
      "cell_type": "code",
      "source": [
        "name = \"Ali\"\n",
        "age = 25\n",
        "desg = \"Lecturer\"\n",
        "salary = 40000.25\n",
        "print(type(name))\n",
        "print(type(age))\n",
        "print(type(desg))\n",
        "print(type(salary))"
      ],
      "metadata": {
        "colab": {
          "base_uri": "https://localhost:8080/"
        },
        "id": "HrzgnEfAf-6e",
        "outputId": "df9b2695-73a2-4653-d073-2150afb65783"
      },
      "execution_count": null,
      "outputs": [
        {
          "output_type": "stream",
          "name": "stdout",
          "text": [
            "<class 'str'>\n",
            "<class 'int'>\n",
            "<class 'str'>\n",
            "<class 'float'>\n"
          ]
        }
      ]
    },
    {
      "cell_type": "code",
      "source": [
        "num = input(\"Enter a Number\")\n",
        "print(num)\n"
      ],
      "metadata": {
        "colab": {
          "base_uri": "https://localhost:8080/"
        },
        "id": "S0wWE7w3gaFH",
        "outputId": "effd0595-4db9-4a62-9e1b-4ab19594d595"
      },
      "execution_count": null,
      "outputs": [
        {
          "output_type": "stream",
          "name": "stdout",
          "text": [
            "Enter a Number5\n",
            "5\n"
          ]
        }
      ]
    },
    {
      "cell_type": "code",
      "source": [
        "num1 = int (input(\"Enter Number1\"))\n",
        "num2 = int (input(\"Enter Number2\"))\n",
        "\n",
        "print(num1 + num2)\n",
        "print(num1 - num2)\n",
        "print(num1 * num2)\n",
        "print(num1 / num2)"
      ],
      "metadata": {
        "colab": {
          "base_uri": "https://localhost:8080/"
        },
        "id": "taWxvFDMgnFE",
        "outputId": "930c6adc-8360-4186-d5a9-66498720ece8"
      },
      "execution_count": null,
      "outputs": [
        {
          "output_type": "stream",
          "name": "stdout",
          "text": [
            "Enter Number1  15\n",
            "Enter Number2  5\n",
            "20\n",
            "10\n",
            "75\n",
            "3.0\n"
          ]
        }
      ]
    },
    {
      "cell_type": "code",
      "source": [
        "num1 = int(input(\"Enter Num1\"))\n",
        "num2 = int(input(\"Enter Num2\"))\n",
        "\n",
        "op = input(\"Enter an operation which you have to perform(+, -, *, /)\")\n",
        "\n",
        "if op == '+':\n",
        "  print(num1 + num2)\n",
        "elif op == '-':\n",
        "  print(num1 - num2)\n",
        "elif op == '*':\n",
        "  print(num1 * num2)\n",
        "elif op == '/':\n",
        "  print(num1/num2)\n",
        "\n",
        "else:\n",
        "  print(\"Inavlid Operation\")\n"
      ],
      "metadata": {
        "id": "5S_Fdi5phnkU"
      },
      "execution_count": null,
      "outputs": []
    },
    {
      "cell_type": "code",
      "source": [
        "num = int(input(\"Enter a Number:\"))\n",
        "\n",
        "print(\"Table of given number is\")\n",
        "for i in range(1,11):\n",
        "\n",
        "    print(num,\"*\" ,i, \" = \", num * i )\n"
      ],
      "metadata": {
        "id": "1ZHEN2ZSkdc_",
        "colab": {
          "base_uri": "https://localhost:8080/"
        },
        "outputId": "8331b18c-e79e-4cad-d528-4cadac4eaecb"
      },
      "execution_count": null,
      "outputs": [
        {
          "output_type": "stream",
          "name": "stdout",
          "text": [
            "Enter a Number:5\n",
            "Table of given number is\n",
            "5 * 1  =  5\n",
            "5 * 2  =  10\n",
            "5 * 3  =  15\n",
            "5 * 4  =  20\n",
            "5 * 5  =  25\n",
            "5 * 6  =  30\n",
            "5 * 7  =  35\n",
            "5 * 8  =  40\n",
            "5 * 9  =  45\n",
            "5 * 10  =  50\n"
          ]
        }
      ]
    },
    {
      "cell_type": "code",
      "source": [
        "num = int(input(\"Enter a Number:\"))\n",
        "\n",
        "fact = 1\n",
        "\n",
        "for i in range(1,num+1):\n",
        "\n",
        "  fact = fact * i\n",
        "\n",
        "\n",
        "print(\"Factorial Of Given Number is :\", fact)"
      ],
      "metadata": {
        "colab": {
          "base_uri": "https://localhost:8080/"
        },
        "id": "7XeQNMmcy-Ll",
        "outputId": "9b5168b5-9c0c-426f-c409-5871286089a3"
      },
      "execution_count": null,
      "outputs": [
        {
          "output_type": "stream",
          "name": "stdout",
          "text": [
            "Enter a Number:6\n",
            "Factorial Of Given Number is : 720\n"
          ]
        }
      ]
    },
    {
      "cell_type": "markdown",
      "source": [
        "# **STRINGS IN PYTHON**\n",
        "\n"
      ],
      "metadata": {
        "id": "v1TpCsZq96DE"
      }
    },
    {
      "cell_type": "code",
      "source": [
        "a = \"asim\"\n",
        "\n",
        "b = \" You are Student of computer science department\"\n",
        "\n",
        "print(a.capitalize())\n",
        "\n",
        "print(\"Hello\", a + b)# Concatination\n",
        "print(len(b))\n",
        "\n",
        "print(b.count('t'))\n",
        "\n",
        "print(b.upper())\n",
        "\n",
        "print(a.lower())\n",
        "\n",
        "print(b.title())\n",
        "\n",
        "print(a.index('m'))\n",
        "\n",
        "print(b.index('Student'))\n",
        "\n",
        "print(b.find('You'))\n",
        "\n",
        "print(a.isalpha())\n",
        "\n",
        "print(b.split())\n",
        "\n",
        "print(a.replace('asim','Faisal'))\n",
        "\n",
        "c= b[3]\n",
        "print(c)\n"
      ],
      "metadata": {
        "colab": {
          "base_uri": "https://localhost:8080/"
        },
        "id": "WQQmPoj8-E30",
        "outputId": "2b4b8669-aa14-4ea8-b16f-f8fb9604c3f9"
      },
      "execution_count": null,
      "outputs": [
        {
          "output_type": "stream",
          "name": "stdout",
          "text": [
            "Asim\n",
            "Hello asim You are Student of computer science department\n",
            "47\n",
            "5\n",
            " YOU ARE STUDENT OF COMPUTER SCIENCE DEPARTMENT\n",
            "asim\n",
            " You Are Student Of Computer Science Department\n",
            "3\n",
            "9\n",
            "1\n",
            "True\n",
            "['You', 'are', 'Student', 'of', 'computer', 'science', 'department']\n",
            "Faisal\n",
            "u\n"
          ]
        }
      ]
    },
    {
      "cell_type": "markdown",
      "source": [
        "\n",
        "\n",
        "```\n",
        "# This is formatted as code\n",
        "```\n",
        "\n",
        "# **LIST IN PYTHON**"
      ],
      "metadata": {
        "id": "tnyB4ZbkIWpY"
      }
    },
    {
      "cell_type": "code",
      "source": [
        "fruits = ['orange', 'apple', 'pear', 'banana', 'kiwi', 'apple', 'banana']\n",
        "print(fruits[1:4])\n",
        "\n",
        "fruits.append(\"Mango\")# add ony one element at last\n",
        "\n",
        "print(fruits.count(\"banana\"))\n",
        "\n",
        "fruits.extend('kiwi')# add many elements in list\n",
        "\n",
        "fruits.pop()# delete last element in given list\n",
        "\n",
        "fruits.remove('Mango')# delete specific element from list\n",
        "\n",
        "fruits.reverse()\n",
        "\n",
        "fruits.clear()# remove all elements from the list\n",
        "\n",
        "if 'Mango' in fruits:\n",
        "\n",
        "  print('Yes, apple is here')\n",
        "\n",
        "else:\n",
        "  print(\"Not here\")\n",
        "\n",
        "\n",
        "print(fruits)\n",
        "\n"
      ],
      "metadata": {
        "colab": {
          "base_uri": "https://localhost:8080/"
        },
        "id": "EkN5YKCnReRg",
        "outputId": "7d85974e-39ff-411c-8b1f-22b61a4021c5"
      },
      "execution_count": null,
      "outputs": [
        {
          "output_type": "stream",
          "name": "stdout",
          "text": [
            "['apple', 'pear', 'banana']\n",
            "2\n",
            "Not here\n",
            "['w', 'i', 'k', 'banana', 'apple', 'kiwi', 'banana', 'pear', 'apple', 'orange']\n"
          ]
        }
      ]
    },
    {
      "cell_type": "code",
      "source": [
        "L = [1,2,3,4,5,6,7,8,9]\n",
        "\n",
        "count = 0\n",
        "\n",
        "for i in L:\n",
        "\n",
        "  count+=  i\n",
        "\n",
        "print(\"Sum = \" , count)\n"
      ],
      "metadata": {
        "colab": {
          "base_uri": "https://localhost:8080/"
        },
        "id": "SGnceIqhf9cY",
        "outputId": "7a71edb8-f994-4934-df87-2e3d2cb6cb0f"
      },
      "execution_count": null,
      "outputs": [
        {
          "output_type": "stream",
          "name": "stdout",
          "text": [
            "Sum =  45\n"
          ]
        }
      ]
    },
    {
      "cell_type": "markdown",
      "source": [
        "# **TUPLES IN PYTHON**"
      ],
      "metadata": {
        "id": "eAQMcZ_jYs-L"
      }
    },
    {
      "cell_type": "code",
      "source": [
        "T = (2,3,4,5,6,6)\n",
        "print(T)\n",
        "print(type(T))\n",
        "print(T[0])\n",
        "print(T[1])\n",
        "\n",
        "print(T[0:5])\n",
        "\n",
        "a = (1,9,8,4,6,6)\n",
        "print(a)\n",
        "\n",
        "print(a.count(6))\n",
        "print(a.index(9))\n",
        "\n",
        "print(a[2:5])\n",
        "\n",
        "print(a[4])"
      ],
      "metadata": {
        "colab": {
          "base_uri": "https://localhost:8080/"
        },
        "id": "vWVWeiLZYy_W",
        "outputId": "99df8a4f-099f-4d5d-c42a-a0296b946b6d"
      },
      "execution_count": null,
      "outputs": [
        {
          "output_type": "stream",
          "name": "stdout",
          "text": [
            "(2, 3, 4, 5, 6, 6)\n",
            "<class 'tuple'>\n",
            "2\n",
            "3\n",
            "(2, 3, 4, 5, 6)\n",
            "(1, 9, 8, 4, 6, 6)\n",
            "2\n",
            "1\n",
            "(8, 4, 6)\n",
            "6\n"
          ]
        }
      ]
    },
    {
      "cell_type": "markdown",
      "source": [
        "**WRITE A PROGRAMM TO INPUT THREE YOUR FAVORITE MOVIE AND STORE IN LIST**"
      ],
      "metadata": {
        "id": "r3W9a-B-dnb7"
      }
    },
    {
      "cell_type": "code",
      "source": [
        "l = []\n",
        "l.append(input(\"Enter Your Favorite Movie Name:\"))\n",
        "l.append(input(\"Enter Your favorite Movie Name:\"))\n",
        "l.append( input(\"Enter Your Favorite movie name \"))\n",
        "\n",
        "print(l)"
      ],
      "metadata": {
        "colab": {
          "base_uri": "https://localhost:8080/"
        },
        "id": "x2sWAQwdbnrL",
        "outputId": "5be05947-18fd-4362-e6f2-94f176d7174c"
      },
      "execution_count": null,
      "outputs": [
        {
          "output_type": "stream",
          "name": "stdout",
          "text": [
            "Enter Your Favorite Movie Name:SALAM E ISHQ\n",
            "Enter Your favorite Movie Name:NATHIA GALI\n",
            "Enter Your Favorite movie name HUM SATH SATH HY\n",
            "['SALAM E ISHQ', 'NATHIA GALI', 'HUM SATH SATH HY']\n"
          ]
        }
      ]
    },
    {
      "cell_type": "code",
      "source": [
        "l = []\n",
        "\n",
        "for _ in range(3):\n",
        "\n",
        "  l.append(int(input(\"Enter Numbers:\")))\n",
        "\n",
        "copy_list = l.copy()\n",
        "copy_list.reverse()\n",
        "\n",
        "if(copy_list == l):\n",
        "\n",
        "  print(\"Palindrome Number\",l)\n",
        "\n",
        "else:\n",
        "  print(\"Not Palindrome\")\n",
        "\n",
        "\n"
      ],
      "metadata": {
        "colab": {
          "base_uri": "https://localhost:8080/"
        },
        "id": "xup0mgHRe_Oj",
        "outputId": "cccfc35c-5cde-46c0-9946-d00557ebe154"
      },
      "execution_count": null,
      "outputs": [
        {
          "output_type": "stream",
          "name": "stdout",
          "text": [
            "Enter Numbers:5\n",
            "Enter Numbers:2\n",
            "Enter Numbers:5\n",
            "Palindrome Number [5, 2, 5]\n"
          ]
        }
      ]
    },
    {
      "cell_type": "code",
      "source": [
        "t = ('C','D','A','A','B','A','D')\n",
        "\n",
        "print(t.count('A'))\n",
        "\n",
        "print(t)"
      ],
      "metadata": {
        "colab": {
          "base_uri": "https://localhost:8080/"
        },
        "id": "9EkbX1FAintn",
        "outputId": "0d4b29a7-7c10-4abf-c7b5-fc73fbf9582f"
      },
      "execution_count": null,
      "outputs": [
        {
          "output_type": "stream",
          "name": "stdout",
          "text": [
            "3\n",
            "('C', 'D', 'A', 'A', 'B', 'A', 'D')\n"
          ]
        }
      ]
    },
    {
      "cell_type": "markdown",
      "source": [
        "# **DICTIONARY IN PYTHON**"
      ],
      "metadata": {
        "id": "78pBlJe8Mwqd"
      }
    },
    {
      "cell_type": "code",
      "source": [
        "info = {\n",
        "\n",
        "     \"name\" : \"Asim\",\n",
        "     \"age\" : 19,\n",
        "     \"add\" : \"Hyderabad\"\n",
        "}\n",
        "#print(info)\n",
        "\n",
        "info['name'] = \"Asif\"\n",
        "print(info)\n",
        "\n",
        "print(info['name'])\n",
        "\n",
        "print(info.get('name'))\n",
        "\n",
        "print(info.items())\n",
        "\n",
        "print(info.keys())\n",
        "\n",
        "print(info.values())\n",
        "\n",
        "Record = {\n",
        "\n",
        "          \"name\" : [\"Asim\",\"Aatif\",\"Hassan\",\"Ahsan\",\"Aamir\",\"Muzammil\"],\n",
        "          \"age\" : (19, 2, 20, 20, 20, 20, 20),\n",
        "          \"address\" : [\"Hyderabad\",\"Hyderabad\",\"Sehwan\",\"Jamshoro\",\"Dadu\",\"Hyderabad\"],\n",
        "          \"GPA\" : (3.11,3.0, 3.3 , 3.4, 3.3, 3.92 )\n",
        "}\n",
        "\n",
        "print(Record)\n",
        "\n"
      ],
      "metadata": {
        "colab": {
          "base_uri": "https://localhost:8080/"
        },
        "id": "XX11oK3_M3_W",
        "outputId": "b0057254-66f8-4799-9e2a-88ca1196efaf"
      },
      "execution_count": null,
      "outputs": [
        {
          "output_type": "stream",
          "name": "stdout",
          "text": [
            "{'name': 'Asif', 'age': 19, 'add': 'Hyderabad'}\n",
            "Asif\n",
            "Asif\n",
            "dict_items([('name', 'Asif'), ('age', 19), ('add', 'Hyderabad')])\n",
            "dict_keys(['name', 'age', 'add'])\n",
            "dict_values(['Asif', 19, 'Hyderabad'])\n",
            "{'name': ['Asim', 'Aatif', 'Hassan', 'Ahsan', 'Aamir', 'Muzammil'], 'age': (19, 2, 20, 20, 20, 20, 20), 'address': ['Hyderabad', 'Hyderabad', 'Sehwan', 'Jamshoro', 'Dadu', 'Hyderabad'], 'GPA': (3.11, 3.0, 3.3, 3.4, 3.3, 3.92)}\n",
            "{}\n"
          ]
        }
      ]
    },
    {
      "cell_type": "code",
      "source": [
        "#Now i create a null dictionary and add some value\n",
        "null_dict = {}\n",
        "\n",
        "null_dict['name'] = \"Mahmood\"\n",
        "null_dict['age'] = 20\n",
        "null_dict['add'] = \"Darro\"\n",
        "\n",
        "print(null_dict)\n",
        "\n",
        "#Nested Dictionary\n",
        "\n",
        "Students = {\n",
        "\n",
        "            \"name\": \"Ali\",\n",
        "            \"subjects\":{\n",
        "\n",
        "                        \"Math\":80,\n",
        "                        \"Chem\":90,\n",
        "                        \"English\":70,\n",
        "                        \"Physics\":60\n",
        "\n",
        "                        }\n",
        "            }\n",
        "\n",
        "print(list(Students.values()))\n",
        "\n",
        "print(Students.get('subjects'))\n",
        "\n",
        "print(Students.get('subjects').get('Math'))\n",
        "\n",
        "print(list(Students.items())) # this method return value in tuple format and pair format"
      ],
      "metadata": {
        "colab": {
          "base_uri": "https://localhost:8080/"
        },
        "id": "3WR7zN9IYuie",
        "outputId": "42dda723-5c98-412d-e065-cc4cdb0f6d06"
      },
      "execution_count": null,
      "outputs": [
        {
          "output_type": "stream",
          "name": "stdout",
          "text": [
            "{'name': 'Mahmood', 'age': 20, 'add': 'Darro'}\n",
            "['Ali', {'Math': 80, 'Chem': 90, 'English': 70, 'Physics': 60}]\n",
            "{'Math': 80, 'Chem': 90, 'English': 70, 'Physics': 60}\n",
            "80\n",
            "[('name', 'Ali'), ('subjects', {'Math': 80, 'Chem': 90, 'English': 70, 'Physics': 60})]\n"
          ]
        }
      ]
    },
    {
      "cell_type": "code",
      "source": [
        "#Directly we not used\n",
        "#print(Students[\"name\"])\n",
        "# instead of this we use method function for understand the code\n",
        "#and made changes easily ton understand\n",
        "\n",
        "#print(Students[\"name2\"])\n",
        "\n",
        "print(Students.get(\"name2\")) # if key not exist it will return none value and other part of code will be executed\n",
        "\n",
        "print(Students.values())\n",
        "\n",
        "#update method\n",
        "new_dict = {\"City\": \"Karachi\", \"age\": 19}\n",
        "\n",
        "Students.update(new_dict)\n",
        "\n",
        "print(Students)\n"
      ],
      "metadata": {
        "colab": {
          "base_uri": "https://localhost:8080/"
        },
        "id": "674_jc0SPxXl",
        "outputId": "3cd82c26-7ece-4a67-aaa3-d384d01a3629"
      },
      "execution_count": null,
      "outputs": [
        {
          "output_type": "stream",
          "name": "stdout",
          "text": [
            "None\n",
            "dict_values(['Ali', {'Math': 80, 'Chem': 90, 'English': 70, 'Physics': 60}, 'Karachi', 19])\n",
            "{'name': 'Ali', 'subjects': {'Math': 80, 'Chem': 90, 'English': 70, 'Physics': 60}, 'City': 'Karachi', 'age': 19}\n"
          ]
        }
      ]
    },
    {
      "cell_type": "markdown",
      "source": [
        "# **SETS IN PYTHON**\n",
        "**Sets are collection of unordered data**\n",
        "**and they are immutable and having unique value**\n",
        "\n",
        "**we also not used List and Ditionary while using Set **\n",
        "\n",
        "Duplicate values are not allowed in SETS\n",
        "\n",
        "**in SETS they are Mutable**\n",
        "**but** the elemnets which are exist in SETS are immut**able in pytho**n **bold text**"
      ],
      "metadata": {
        "id": "NVJ7n_0aS5nW"
      }
    },
    {
      "cell_type": "code",
      "source": [
        "collection = {1,2,3,4,\"Hello\",\"World\"}\n",
        "\n",
        "print(collection)\n",
        "\n",
        "print(type(collection))\n",
        "\n",
        "print(len(collection))\n",
        "\n",
        "#create an empty se\n",
        "\n",
        "empty_set = set()\n",
        "\n",
        "#Methods Of Sets in python\n",
        "print(collection.add(5))\n",
        "print(collection)\n",
        "\n",
        "print(collection.clear())\n",
        "\n",
        "print(collection)\n",
        "\n",
        "print(collection.copy())\n",
        "\n",
        "#create an other SETS\n",
        "set1 = {1, 2, 3, 4}\n",
        "set2 = {3, 4, 5, 6}\n",
        "\n",
        "result = set1.difference(set2)# this method returns a new set with elements in the set that are not in the other set(s).\n",
        "print(result)  # Output: {1, 2}\n",
        "\n",
        "set1 = {1, 2, 3, 4}\n",
        "set2 = {3, 4, 5, 6}\n",
        "\n",
        "set1.difference_update(set2)# This method updates the set by removing elements found in the other set(s)\n",
        "print(set1)  # Output: {1, 2}\n",
        "\n",
        "#union of sets\n",
        "#return combine value of both\n",
        "\n",
        "print(set1.union(set2))\n",
        "\n",
        "#intersection of sets\n",
        "#return common value of both\n",
        "set1 = {1, 2, 3, 4}\n",
        "set2 = {3, 4, 5, 6}\n",
        "\n",
        "print(set1.intersection(set2))\n",
        "\n",
        "\n",
        "\n",
        "\n",
        "\n",
        "\n",
        "print(empty_set)"
      ],
      "metadata": {
        "colab": {
          "base_uri": "https://localhost:8080/"
        },
        "id": "Fn6loysWUoTz",
        "outputId": "a752fdfb-233b-4c79-cd17-dda3bf252b4e"
      },
      "execution_count": null,
      "outputs": [
        {
          "output_type": "stream",
          "name": "stdout",
          "text": [
            "{1, 2, 3, 4, 'Hello', 'World'}\n",
            "<class 'set'>\n",
            "6\n",
            "None\n",
            "{1, 2, 3, 4, 'Hello', 5, 'World'}\n",
            "None\n",
            "set()\n",
            "set()\n",
            "{1, 2}\n",
            "{1, 2}\n",
            "{1, 2, 3, 4, 5, 6}\n",
            "{3, 4}\n",
            "set()\n"
          ]
        }
      ]
    },
    {
      "cell_type": "code",
      "source": [
        "#let's practice\n",
        "\n",
        "dictionary = {\n",
        "\n",
        "              \"table\": [\"A Piece of Furniture\", \"List of facts and figures\"],\n",
        "              \"Cat\" : \"A small animal\"\n",
        "}\n",
        "\n",
        "print(dictionary)\n",
        "\n",
        "#Another Practice Question\n",
        "sets = {\n",
        "    \"Python\", \"Java\", \"C++\", \"C\", \"C#\", \"JavaScript\", \"Python\", \"Java\", \"C++\"\n",
        "  }\n",
        "\n",
        "print(sets)\n",
        "\n",
        "print(len(sets))\n",
        "\n",
        "x={9,'9.0'}\n",
        "print(x)\n",
        "\n"
      ],
      "metadata": {
        "colab": {
          "base_uri": "https://localhost:8080/"
        },
        "id": "vvpd-W37h2i3",
        "outputId": "0221d5e0-c98d-4abf-ca51-0425b682a553"
      },
      "execution_count": null,
      "outputs": [
        {
          "output_type": "stream",
          "name": "stdout",
          "text": [
            "{'table': ['A Piece of Furniture', 'List of facts and figures'], 'Cat': 'A small animal'}\n",
            "{'JavaScript', 'C', 'Java', 'C++', 'Python', 'C#'}\n",
            "6\n",
            "{9, '9.0'}\n"
          ]
        }
      ]
    },
    {
      "cell_type": "code",
      "source": [
        "marks={}\n",
        "x = input(\"Enter Marks of physics\")\n",
        "marks.update({\"physics\":x})\n",
        "\n",
        "y= input(\"Enter Marks Of Chemistry\")\n",
        "marks.update({\"Chemistry\":y})\n",
        "\n",
        "z= input(\"Enter Marks Of Maths\")\n",
        "marks.update({\"Maths\":z})\n",
        "\n",
        "print(marks)\n"
      ],
      "metadata": {
        "colab": {
          "base_uri": "https://localhost:8080/"
        },
        "id": "NRecp9jnkRiK",
        "outputId": "8a3391d1-e083-4154-920f-3b14150e2fd0"
      },
      "execution_count": null,
      "outputs": [
        {
          "output_type": "stream",
          "name": "stdout",
          "text": [
            "Enter Marks of physics80\n",
            "Enter Marks Of Chemistry90\n",
            "Enter Marks Of Maths70\n",
            "{'physics': 80, 'Chemistry': 90, 'Maths': 70}\n"
          ]
        }
      ]
    },
    {
      "cell_type": "markdown",
      "source": [
        "# **FUNCTIONS IN PYTHON**\n",
        "\n",
        "GROUP OF STATEMENT THAT PERFORM SPECIAL TASK"
      ],
      "metadata": {
        "id": "UrKVcp9wKnzO"
      }
    },
    {
      "cell_type": "code",
      "source": [
        "def my_function():\n",
        "  print(\"Hello World\")\n",
        "\n",
        "my_function()\n",
        "\n",
        "def calc_sum(num1, num2):\n",
        "  sum = num1 + num2\n",
        "  print(sum)\n",
        "\n",
        "calc_sum(10,20)\n",
        "\n",
        "def fact(num):\n",
        "  fact = 1\n",
        "  for i in range(1,num+1):\n",
        "    fact = fact * i\n",
        "  print(fact)\n",
        "\n",
        "fact(5)\n",
        "\n",
        "def table(num):\n",
        "  for i in range(1,11):\n",
        "    print(num, \"*\", i, \"=\", num *i)\n",
        "table(5)\n",
        "\n",
        "def evenodd(num):\n",
        "\n",
        "  if num%2 == 0:\n",
        "    print(\"Even\")\n",
        "\n",
        "  else:\n",
        "    print(\"odd Number\")\n",
        "\n",
        "evenodd(5)\n",
        "\n",
        "\n",
        "\n",
        "\n"
      ],
      "metadata": {
        "colab": {
          "base_uri": "https://localhost:8080/"
        },
        "id": "fIX9Fy5nNLbM",
        "outputId": "755b54c0-2dd1-43fc-ebad-1f5e86dae0f1"
      },
      "execution_count": null,
      "outputs": [
        {
          "output_type": "stream",
          "name": "stdout",
          "text": [
            "Hello World\n",
            "30\n",
            "120\n",
            "5 * 1 = 5\n",
            "5 * 2 = 10\n",
            "5 * 3 = 15\n",
            "5 * 4 = 20\n",
            "5 * 5 = 25\n",
            "5 * 6 = 30\n",
            "5 * 7 = 35\n",
            "5 * 8 = 40\n",
            "5 * 9 = 45\n",
            "5 * 10 = 50\n",
            "odd Number\n"
          ]
        }
      ]
    },
    {
      "cell_type": "code",
      "source": [
        "def avg(num1,num2,num3):\n",
        "  avg = (num1+num2+num3)/3\n",
        "  print(avg)\n",
        "\n",
        "avg(10,20,30)\n",
        "\n",
        "# Exchange rates (example rates, these should be updated to current rates)\n",
        "USD_TO_PKR_RATE = 286.50  # 1 USD = 286.50 PKR\n",
        "PKR_TO_USD_RATE = 1 / USD_TO_PKR_RATE  # 1 PKR = 1/USD_TO_PKR_RATE USD\n",
        "\n",
        "def usd_to_pkr(usd):\n",
        "    return usd * USD_TO_PKR_RATE\n",
        "\n",
        "def pkr_to_usd(pkr):\n",
        "    return pkr * PKR_TO_USD_RATE\n",
        "\n",
        "def main():\n",
        "    print(\"Currency Converter\")\n",
        "    print(\"1: Convert USD to PKR\")\n",
        "    print(\"2: Convert PKR to USD\")\n",
        "\n",
        "    choice = input(\"Enter 1 or 2: \")\n",
        "\n",
        "    if choice == '1':\n",
        "        usd = float(input(\"Enter amount in USD: \"))\n",
        "        pkr = usd_to_pkr(usd)\n",
        "        print(f\"{usd} USD is equal to {pkr:.2f} PKR\")\n",
        "    elif choice == '2':\n",
        "        pkr = float(input(\"Enter amount in PKR: \"))\n",
        "        usd = pkr_to_usd(pkr)\n",
        "        print(f\"{pkr} PKR is equal to {usd:.2f} USD\")\n",
        "    else:\n",
        "        print(\"Invalid choice. Please enter 1 or 2.\")\n",
        "\n",
        "if __name__ == \"__main__\":\n",
        "    main()\n"
      ],
      "metadata": {
        "colab": {
          "base_uri": "https://localhost:8080/"
        },
        "id": "Zoz_xk-VQm4m",
        "outputId": "f3d8f777-629c-4a21-c44f-38bb356951aa"
      },
      "execution_count": null,
      "outputs": [
        {
          "output_type": "stream",
          "name": "stdout",
          "text": [
            "20.0\n",
            "Currency Converter\n",
            "1: Convert USD to PKR\n",
            "2: Convert PKR to USD\n",
            "Enter 1 or 2: 2\n",
            "Enter amount in PKR: 15000\n",
            "15000.0 PKR is equal to 52.36 USD\n"
          ]
        }
      ]
    },
    {
      "cell_type": "markdown",
      "source": [
        "# **RECURSION IN PYTHON**\n",
        "WHEN A FUNCTION CALL ITS SELF REPEATEDLY"
      ],
      "metadata": {
        "id": "3wRxUDsUGk4X"
      }
    },
    {
      "cell_type": "code",
      "source": [
        "\n",
        "\n",
        "\n",
        "def show(n):\n",
        "  if n > 0:\n",
        "    show(n-1)\n",
        "    print(n)\n",
        "\n",
        "show(5)\n",
        "\n",
        "def sum(n):\n",
        "  if n == 0:\n",
        "    return 0\n",
        "  else:\n",
        "    return sum(n-1) + n\n",
        "\n",
        "sum(5)\n",
        "\n",
        "def fibonacci(n):\n",
        "  if n <= 1:\n",
        "    return n\n",
        "  else:\n",
        "    return fibonacci(n-1) + fibonacci(n-2)\n",
        "\n",
        "fibonacci(5)\n",
        "\n",
        "\n",
        "def show(n):\n",
        "\n",
        "  if n == 0:\n",
        "    return\n",
        "  else:\n",
        "    show(n-1)\n",
        "    print(n)\n",
        "\n",
        "show(5)\n",
        "\n"
      ],
      "metadata": {
        "colab": {
          "base_uri": "https://localhost:8080/"
        },
        "id": "jxUN-nlJGsGh",
        "outputId": "c942edfe-a695-4804-ef16-e219fc2158a2"
      },
      "execution_count": null,
      "outputs": [
        {
          "output_type": "stream",
          "name": "stdout",
          "text": [
            "1\n",
            "2\n",
            "3\n",
            "4\n",
            "5\n",
            "1\n",
            "2\n",
            "3\n",
            "4\n",
            "5\n"
          ]
        }
      ]
    },
    {
      "cell_type": "code",
      "source": [
        "def factorial(n):\n",
        "  if n == 1:  #Base Case\n",
        "    return 1\n",
        "  else:\n",
        "    return n * factorial(n-1)\n",
        "\n",
        "factorial(5)"
      ],
      "metadata": {
        "colab": {
          "base_uri": "https://localhost:8080/"
        },
        "id": "Ti9Kgw_g-_g8",
        "outputId": "272c5163-61a4-424b-87c8-4e08f3cc2c67"
      },
      "execution_count": null,
      "outputs": [
        {
          "output_type": "execute_result",
          "data": {
            "text/plain": [
              "120"
            ]
          },
          "metadata": {},
          "execution_count": 3
        }
      ]
    },
    {
      "cell_type": "code",
      "source": [
        "def table(n):\n",
        "  for i in range(1,11):\n",
        "    print(n,\"*\",i,\"=\",n*i)\n",
        "\n",
        "table(5)\n"
      ],
      "metadata": {
        "colab": {
          "base_uri": "https://localhost:8080/"
        },
        "id": "ftUeCBcq_LYf",
        "outputId": "fa867319-89c9-486f-dcb1-f9941771551e"
      },
      "execution_count": null,
      "outputs": [
        {
          "output_type": "stream",
          "name": "stdout",
          "text": [
            "5 * 1 = 5\n",
            "5 * 2 = 10\n",
            "5 * 3 = 15\n",
            "5 * 4 = 20\n",
            "5 * 5 = 25\n",
            "5 * 6 = 30\n",
            "5 * 7 = 35\n",
            "5 * 8 = 40\n",
            "5 * 9 = 45\n",
            "5 * 10 = 50\n"
          ]
        }
      ]
    },
    {
      "cell_type": "markdown",
      "source": [
        "# **FILE INPUT OUTPUT IN PYTHON**\n",
        "\n",
        "File input-output we have two types of files\n",
        "\n",
        "**Text Files**\n",
        ".txt, .docx, .long,\n",
        "\n",
        "**Binary Files**\n",
        ".png, .mp4,.mov,.jpeg\n",
        "\n",
        "**first, we open the file using Open built-in function and provide format like **read or write the data and then print it and also close same thing bold text\n",
        "\n",
        "\n",
        "f = open(\"Document\", \"Read or Write\")\n",
        "\n",
        "print(f.read())\n",
        "\n",
        "f.close() **bold text** bold text\n"
      ],
      "metadata": {
        "id": "uFvRcNtv_mXs"
      }
    },
    {
      "cell_type": "markdown",
      "source": [
        "# **OBJECT-ORIENTED PROGRAMMING CONCEPTS**"
      ],
      "metadata": {
        "id": "lasT0Rx7t5MC"
      }
    },
    {
      "cell_type": "code",
      "source": [
        "class students :\n",
        "\n",
        "  name = \"Asim\"\n",
        "\n",
        "s1 = students()\n",
        "\n",
        "print(s1.name)\n",
        "\n",
        "class cars:\n",
        "  def __init__(self, name, model, year):\n",
        "    self.name = name\n",
        "    self.model = model\n",
        "    self.year = year\n",
        "\n",
        "car1 = cars(name = \"Toyota\", model = \"Corolla\", year = 2022)\n",
        "\n",
        "print(car1.name)\n",
        "print(car1.model)\n",
        "print(car1.year)\n",
        "\n",
        "\n",
        "\n",
        "\n"
      ],
      "metadata": {
        "colab": {
          "base_uri": "https://localhost:8080/"
        },
        "id": "FOkNEF9YuCQj",
        "outputId": "ea4bdc03-ab67-4b67-d452-7541c372b1f9"
      },
      "execution_count": null,
      "outputs": [
        {
          "output_type": "stream",
          "name": "stdout",
          "text": [
            "Asim\n",
            "Toyota\n",
            "Corolla\n",
            "2022\n"
          ]
        }
      ]
    },
    {
      "cell_type": "markdown",
      "source": [
        "init function used in python it is also\n",
        "kmown as constructor, it always executed when\n",
        "class being initiated\n",
        "\n",
        "self parameter\n",
        "reference to the current instances of class and used to access variable in class"
      ],
      "metadata": {
        "id": "HXJLGntTvjEK"
      }
    },
    {
      "cell_type": "code",
      "source": [
        "#Default constructor\n",
        "\n",
        "class students:\n",
        "  def __init__(self):\n",
        "    print(\"This is default constructor\")\n",
        "\n",
        "\n",
        "#Parameterized Constructor\n",
        "\n",
        "class students:\n",
        "  def __init__(self, name, age):\n",
        "    print(\"This is Parameterized constructor\")\n",
        "    self.name = name\n",
        "    self.age = age\n",
        "\n",
        "\n",
        "s1= students(\"Asim\", 19)\n",
        "print(s1.name)\n",
        "print(s1.age)\n",
        "\n",
        "\n",
        "#class and instance attribute\n",
        "\n",
        "class students:\n",
        "  def __init__(self, name, age):\n",
        "    self.name = name\n",
        "    self.age = age\n",
        "\n",
        "s1 = students(\"Asim\", 19)\n",
        "\n",
        "print(s1.name)\n",
        "print(s1.age)\n",
        "\n",
        "\n",
        "#Methods\n",
        "#They are functions that belonging to object\n",
        "\n",
        "class Bank:\n",
        "  def __init__(self, name, balance):\n",
        "    self.name = name\n",
        "    self.balance = balance\n",
        "\n",
        "  def hello(self):\n",
        "    print(\"Hello\",self.name,\"Your Balance is\" , self.balance)\n",
        "\n",
        "emp1 = Bank(\"Asim\", 5000)\n",
        "\n",
        "emp1.hello()\n",
        "\n",
        "\n"
      ],
      "metadata": {
        "colab": {
          "base_uri": "https://localhost:8080/"
        },
        "id": "co7V_sC00Uu8",
        "outputId": "e458143e-91ea-41e5-aea7-5628627e011a"
      },
      "execution_count": null,
      "outputs": [
        {
          "output_type": "stream",
          "name": "stdout",
          "text": [
            "This is Parameterized constructor\n",
            "Asim\n",
            "19\n",
            "Asim\n",
            "19\n",
            "Hello Asim Your Balance is 5000\n"
          ]
        }
      ]
    },
    {
      "cell_type": "code",
      "source": [
        "class students:\n",
        "\n",
        "  def __init__(self, name, marks):\n",
        "    self.name = name\n",
        "    self.marks = marks\n",
        "\n",
        "\n",
        "  def get_avg(self):\n",
        "\n",
        "    sum = 0\n",
        "\n",
        "    for val in self.marks:"
      ],
      "metadata": {
        "id": "2i_ePuywETYC"
      },
      "execution_count": null,
      "outputs": []
    }
  ]
}